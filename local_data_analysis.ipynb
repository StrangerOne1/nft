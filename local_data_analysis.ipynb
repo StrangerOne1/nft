{
 "cells": [
  {
   "cell_type": "code",
   "execution_count": null,
   "metadata": {},
   "outputs": [],
   "source": [
    "import numpy as np\n",
    "\n",
    "def split_matrix(matrix, N):\n",
    "    # Get the size of the matrix (m x m)\n",
    "    m = matrix.shape[0]\n",
    "    part_size = m // N  # The size of each part\n",
    "\n",
    "    # Create a list to hold the N parts\n",
    "    parts = []\n",
    "\n",
    "    # Split the matrix into N x N submatrices\n",
    "    for i in range(N):\n",
    "        for j in range(N):\n",
    "            # Get the submatrix for part (i, j)\n",
    "            submatrix = matrix[i*part_size:(i+1)*part_size, j*part_size:(j+1)*part_size]\n",
    "            parts.append(submatrix)\n",
    "\n",
    "    return parts\n",
    "\n",
    "def save_parts(parts):\n",
    "    # Save each part to a separate file\n",
    "    for idx, part in enumerate(parts):\n",
    "        file_name = f'part_{idx + 1}.asc'\n",
    "        np.savetxt(file_name, part, fmt='%d')\n",
    "\n",
    "def read_matrix_from_file(file_path):\n",
    "    # Read the matrix from the .asc file (assuming space-separated values)\n",
    "    matrix = np.loadtxt(file_path, dtype=int)\n",
    "    return matrix\n",
    "\n",
    "def main():\n",
    "    input_file = 'input.asc'  # Path to the input .asc file\n",
    "    N = 4  # Number of parts to split the matrix into\n",
    "\n",
    "    # Read the matrix from the file\n",
    "    matrix = read_matrix_from_file(input_file)\n",
    "\n",
    "    # Check if the matrix size is divisible by N\n",
    "    if matrix.shape[0] % N != 0:\n",
    "        print(f\"Error: The matrix size {matrix.shape[0]} is not divisible by {N}.\")\n",
    "        return\n",
    "\n",
    "    # Split the matrix into N parts\n",
    "    parts = split_matrix(matrix, N)\n",
    "\n",
    "    # Save the parts to separate files\n",
    "    save_parts(parts)\n",
    "\n",
    "    print(f\"The matrix has been split into {N} parts and saved to individual files.\")\n",
    "\n",
    "if __name__ == \"__main__\":\n",
    "    main()"
   ]
  }
 ],
 "metadata": {
  "kernelspec": {
   "display_name": "Python 3",
   "language": "python",
   "name": "python3"
  },
  "language_info": {
   "codemirror_mode": {
    "name": "ipython",
    "version": 3
   },
   "file_extension": ".py",
   "mimetype": "text/x-python",
   "name": "python",
   "nbconvert_exporter": "python",
   "pygments_lexer": "ipython3",
   "version": "3.8.5"
  }
 },
 "nbformat": 4,
 "nbformat_minor": 4
}
