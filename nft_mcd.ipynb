{
 "cells": [
  {
   "cell_type": "markdown",
   "metadata": {},
   "source": [
    "# NFT MCD"
   ]
  },
  {
   "cell_type": "code",
   "execution_count": null,
   "metadata": {},
   "outputs": [],
   "source": [
    "from matplotlib import pylab as plt\n",
    "import pandas as pd\n",
    "import os\n",
    "from os import listdir\n",
    "from os.path import isfile, join, realpath\n",
    "import re\n",
    "import pandas as pd\n",
    "\n",
    "mypath = 'D:/Projects/git/nft/data.mcd' \n",
    "os.chdir(mypath)\n",
    "\n",
    "files = [f for f in listdir(mypath) if isfile(join(mypath, f)) and f.split(\".\")[-1] != \"png\" and f.split(\".\")[-1] != \"ipynb\"]\n",
    "print(files)\n",
    "\n",
    "# Load the data into a pandas DataFrame\n",
    "df = pd.read_csv('Test-32.csv')\n",
    "\n",
    "# View the first 5 rows (default)\n",
    "print(df.head(5))  # You can also specify a number inside the parentheses like df.head(10)\n",
    "\n",
    "for file in files:\n",
    "    frame = pd.read_csv(file, header=0, sep=',')\n",
    "    #frame.plot(x='COM4.Field', y='GPIB0::4::INSTR.x', kind='line')\n",
    "    x = frame['COM4.Field']\n",
    "    y = frame['GPIB0::4::INSTR.x']\n",
    "    plt.plot(x, y, label='2 K', linewidth=1)\n",
    "    plt.title(file)\n",
    "    plt.legend()\n",
    "    plt.ylabel('mcd signal (a.u.)') \n",
    "    plt.xlabel('B (T)')\n",
    "    plt.show()\n",
    "    \n",
    "    #selcolumns = df[['Magnetic Field (Oe)','Moment (emu)']]\n",
    "    #output_file = file + '_new' + '.csv'\n",
    "    #save_path = mypath #r\"D:\\my_folder\\output_file.csv\"\n",
    "    #selcolumns.to_csv(output_file, index=False)"
   ]
  }
 ],
 "metadata": {
  "kernelspec": {
   "display_name": "Python 3",
   "language": "python",
   "name": "python3"
  },
  "language_info": {
   "codemirror_mode": {
    "name": "ipython",
    "version": 3
   },
   "file_extension": ".py",
   "mimetype": "text/x-python",
   "name": "python",
   "nbconvert_exporter": "python",
   "pygments_lexer": "ipython3",
   "version": "3.7.3"
  }
 },
 "nbformat": 4,
 "nbformat_minor": 2
}
